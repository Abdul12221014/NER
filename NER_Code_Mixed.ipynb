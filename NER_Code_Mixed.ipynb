{
  "nbformat": 4,
  "nbformat_minor": 0,
  "metadata": {
    "colab": {
      "provenance": []
    },
    "kernelspec": {
      "name": "python3",
      "display_name": "Python 3"
    },
    "language_info": {
      "name": "python"
    }
  },
  "cells": [
    {
      "cell_type": "markdown",
      "source": [
        "NAME ENTITY RECOGNITION IN CODE MIXING DATASET USING SVM, CNN"
      ],
      "metadata": {
        "id": "2d0inGa7Y_Q5"
      }
    },
    {
      "cell_type": "markdown",
      "source": [
        "1. Importing Libraries"
      ],
      "metadata": {
        "id": "GhfBX-BWZckW"
      }
    },
    {
      "cell_type": "code",
      "source": [
        "import pandas as pd\n",
        "import numpy as np\n",
        "from sklearn.model_selection import train_test_split\n",
        "from sklearn.svm import SVC\n",
        "from sklearn.pipeline import make_pipeline\n",
        "from sklearn.preprocessing import StandardScaler\n",
        "from sklearn.metrics import classification_report, accuracy_score\n",
        "import tensorflow as tf\n",
        "from tensorflow.keras.preprocessing.sequence import pad_sequences\n",
        "from tensorflow.keras.preprocessing.text import Tokenizer\n",
        "from tensorflow.keras.layers import Conv1D, MaxPooling1D, Flatten, Dense, Embedding, Input\n",
        "from tensorflow.keras.models import Model"
      ],
      "metadata": {
        "id": "Zq0C2UqBZgtd"
      },
      "execution_count": null,
      "outputs": []
    },
    {
      "cell_type": "markdown",
      "source": [],
      "metadata": {
        "id": "ZUC4HDaTZkyp"
      }
    },
    {
      "cell_type": "markdown",
      "source": [
        "2. Loading and Preprocessing the Dataset"
      ],
      "metadata": {
        "id": "gMIEIxLOZrg6"
      }
    },
    {
      "cell_type": "code",
      "source": [
        "data = pd.read_csv('/content/Code_Mixed.csv')\n",
        "\n",
        "# Assuming 'text' and 'label' are the column names in  dataset\n",
        "texts = data['text'].values\n",
        "labels = data['label'].values\n",
        "\n",
        "# Preprocess the text\n",
        "tokenizer = Tokenizer()\n",
        "tokenizer.fit_on_texts(texts)\n",
        "sequences = tokenizer.texts_to_sequences(texts)\n",
        "word_index = tokenizer.word_index\n"
      ],
      "metadata": {
        "id": "yMrdFfhpZvDt"
      },
      "execution_count": null,
      "outputs": []
    },
    {
      "cell_type": "markdown",
      "source": [
        "3. Padding and Encoding"
      ],
      "metadata": {
        "id": "h-vmhNwdZ4FT"
      }
    },
    {
      "cell_type": "code",
      "source": [
        "MAX_SEQUENCE_LENGTH = 100\n",
        "EMBEDDING_DIM = 100\n",
        "\n",
        "# Pad sequences\n",
        "X = pad_sequences(sequences, maxlen=MAX_SEQUENCE_LENGTH)\n",
        "y = pd.get_dummies(labels).values  # One-hot encoding\n"
      ],
      "metadata": {
        "id": "eAOxoIhfZ7i0"
      },
      "execution_count": null,
      "outputs": []
    },
    {
      "cell_type": "markdown",
      "source": [
        "4. Splitting the Data into Training and Testing Sets"
      ],
      "metadata": {
        "id": "_XSbLqK9aNxN"
      }
    },
    {
      "cell_type": "code",
      "source": [
        "X_train, X_test, y_train, y_test = train_test_split(X, y, test_size=0.2, random_state=42)"
      ],
      "metadata": {
        "id": "YXEBQn0naQ9Z"
      },
      "execution_count": null,
      "outputs": []
    },
    {
      "cell_type": "markdown",
      "source": [
        "5. Building and Training a CNN Model"
      ],
      "metadata": {
        "id": "uTvZ_QF6aUng"
      }
    },
    {
      "cell_type": "markdown",
      "source": [],
      "metadata": {
        "id": "L6fy8Wj7aIwu"
      }
    },
    {
      "cell_type": "code",
      "source": [
        "def create_cnn_model(input_length, embedding_dim):\n",
        "    input = Input(shape=(input_length,))\n",
        "    x = Embedding(len(word_index) + 1, embedding_dim, input_length=input_length)(input)\n",
        "    x = Conv1D(128, 5, activation='relu')(x)\n",
        "    x = MaxPooling1D(pool_size=4)(x)\n",
        "    x = Flatten()(x)\n",
        "    x = Dense(64, activation='relu')(x)\n",
        "    x = Dense(len(y_train[0]), activation='softmax')(x)\n",
        "\n",
        "    model = Model(inputs=input, outputs=x)\n",
        "    model.compile(optimizer='adam', loss='categorical_crossentropy', metrics=['accuracy'])\n",
        "    return model\n",
        "\n",
        "# Create and train CNN model\n",
        "cnn_model = create_cnn_model(MAX_SEQUENCE_LENGTH, EMBEDDING_DIM)\n",
        "cnn_model.fit(X_train, y_train, epochs=5, batch_size=32, validation_split=0.2)"
      ],
      "metadata": {
        "colab": {
          "base_uri": "https://localhost:8080/"
        },
        "id": "6T0qt9j5aYSf",
        "outputId": "24855b8d-6494-43a1-c467-0820eb47da75"
      },
      "execution_count": null,
      "outputs": [
        {
          "output_type": "stream",
          "name": "stderr",
          "text": [
            "/usr/local/lib/python3.10/dist-packages/keras/src/layers/core/embedding.py:90: UserWarning: Argument `input_length` is deprecated. Just remove it.\n",
            "  warnings.warn(\n"
          ]
        },
        {
          "output_type": "stream",
          "name": "stdout",
          "text": [
            "Epoch 1/5\n",
            "\u001b[1m21/21\u001b[0m \u001b[32m━━━━━━━━━━━━━━━━━━━━\u001b[0m\u001b[37m\u001b[0m \u001b[1m3s\u001b[0m 61ms/step - accuracy: 0.3668 - loss: 1.0755 - val_accuracy: 0.5217 - val_loss: 1.0478\n",
            "Epoch 2/5\n",
            "\u001b[1m21/21\u001b[0m \u001b[32m━━━━━━━━━━━━━━━━━━━━\u001b[0m\u001b[37m\u001b[0m \u001b[1m1s\u001b[0m 46ms/step - accuracy: 0.7750 - loss: 0.8732 - val_accuracy: 0.5031 - val_loss: 0.9898\n",
            "Epoch 3/5\n",
            "\u001b[1m21/21\u001b[0m \u001b[32m━━━━━━━━━━━━━━━━━━━━\u001b[0m\u001b[37m\u001b[0m \u001b[1m1s\u001b[0m 46ms/step - accuracy: 0.8813 - loss: 0.5221 - val_accuracy: 0.5590 - val_loss: 0.8600\n",
            "Epoch 4/5\n",
            "\u001b[1m21/21\u001b[0m \u001b[32m━━━━━━━━━━━━━━━━━━━━\u001b[0m\u001b[37m\u001b[0m \u001b[1m1s\u001b[0m 48ms/step - accuracy: 0.9989 - loss: 0.1807 - val_accuracy: 0.6894 - val_loss: 0.7136\n",
            "Epoch 5/5\n",
            "\u001b[1m21/21\u001b[0m \u001b[32m━━━━━━━━━━━━━━━━━━━━\u001b[0m\u001b[37m\u001b[0m \u001b[1m1s\u001b[0m 48ms/step - accuracy: 1.0000 - loss: 0.0380 - val_accuracy: 0.7329 - val_loss: 0.6783\n"
          ]
        },
        {
          "output_type": "execute_result",
          "data": {
            "text/plain": [
              "<keras.src.callbacks.history.History at 0x7ed72a3408b0>"
            ]
          },
          "metadata": {},
          "execution_count": 5
        }
      ]
    },
    {
      "cell_type": "markdown",
      "source": [
        "6. Extracting Features Using the CNN"
      ],
      "metadata": {
        "id": "OLAObBUhagbP"
      }
    },
    {
      "cell_type": "code",
      "source": [
        "def extract_features(model, X):\n",
        "    feature_extractor = Model(inputs=model.input, outputs=model.layers[-2].output)\n",
        "    features = feature_extractor.predict(X)\n",
        "    return features\n",
        "\n",
        "# Extract features for SVM\n",
        "X_train_features = extract_features(cnn_model, X_train)\n",
        "X_test_features = extract_features(cnn_model, X_test)\n"
      ],
      "metadata": {
        "colab": {
          "base_uri": "https://localhost:8080/"
        },
        "id": "_Nf-Q29hai_c",
        "outputId": "119d35f6-542f-471b-8233-d286069c8af3"
      },
      "execution_count": null,
      "outputs": [
        {
          "output_type": "stream",
          "name": "stdout",
          "text": [
            "\u001b[1m26/26\u001b[0m \u001b[32m━━━━━━━━━━━━━━━━━━━━\u001b[0m\u001b[37m\u001b[0m \u001b[1m0s\u001b[0m 15ms/step\n",
            "\u001b[1m7/7\u001b[0m \u001b[32m━━━━━━━━━━━━━━━━━━━━\u001b[0m\u001b[37m\u001b[0m \u001b[1m0s\u001b[0m 33ms/step\n"
          ]
        }
      ]
    },
    {
      "cell_type": "markdown",
      "source": [
        "7. Training and Evaluating the SVM Model"
      ],
      "metadata": {
        "id": "YlTv-AVra0u4"
      }
    },
    {
      "cell_type": "code",
      "source": [
        "# Train SVM\n",
        "svm_model = make_pipeline(StandardScaler(), SVC(kernel='poly', C=1, gamma='scale'))\n",
        "svm_model.fit(X_train_features, np.argmax(y_train, axis=1))\n",
        "\n",
        "# Evaluate\n",
        "y_pred = svm_model.predict(X_test_features)\n",
        "print(f'Accuracy: {accuracy_score(np.argmax(y_test, axis=1), y_pred)}')\n",
        "print(classification_report(np.argmax(y_test, axis=1), y_pred))\n"
      ],
      "metadata": {
        "colab": {
          "base_uri": "https://localhost:8080/"
        },
        "id": "IMUQooi3a4Fz",
        "outputId": "decb75f6-c349-40e3-d048-f843af468381"
      },
      "execution_count": null,
      "outputs": [
        {
          "output_type": "stream",
          "name": "stdout",
          "text": [
            "Accuracy: 0.4405940594059406\n",
            "              precision    recall  f1-score   support\n",
            "\n",
            "           0       1.00      0.06      0.11        68\n",
            "           1       0.70      0.12      0.21        56\n",
            "           2       0.41      1.00      0.59        78\n",
            "\n",
            "    accuracy                           0.44       202\n",
            "   macro avg       0.70      0.39      0.30       202\n",
            "weighted avg       0.69      0.44      0.32       202\n",
            "\n"
          ]
        }
      ]
    }
  ]
}